{
 "cells": [
  {
   "cell_type": "code",
   "execution_count": null,
   "metadata": {},
   "outputs": [],
   "source": [
    "import pandas as pd\n",
    "import os\n",
    "import matplotlib.pyplot as plt\n",
    "import numpy as np\n",
    "import seaborn as sbn\n",
    "\n",
    "basedir = os.path.dirname(os.path.abspath(__name__))\n",
    "\n",
    "# Setting up Dataframe\n",
    "df = pd.read_csv(os.path.join(basedir,'nyc_taxi_trip_duration.csv'))\n",
    "\n",
    "# Enable view of all features at once\n",
    "pd.set_option('display.max_columns', None)\n",
    "# Increase figure sizes"
   ]
  }
 ],
 "metadata": {
  "kernelspec": {
   "display_name": "dsenv",
   "language": "python",
   "name": "python3"
  },
  "language_info": {
   "name": "python",
   "version": "3.10.9"
  },
  "orig_nbformat": 4
 },
 "nbformat": 4,
 "nbformat_minor": 2
}
